{
 "cells": [
  {
   "cell_type": "code",
   "execution_count": 15,
   "id": "706d789c",
   "metadata": {},
   "outputs": [],
   "source": [
    "import pandas as pd\n",
    "import geopandas as gpd\n",
    "from keplergl import KeplerGl"
   ]
  },
  {
   "cell_type": "code",
   "execution_count": 16,
   "id": "69402fe6",
   "metadata": {},
   "outputs": [
    {
     "data": {
      "text/html": [
       "<div>\n",
       "<style scoped>\n",
       "    .dataframe tbody tr th:only-of-type {\n",
       "        vertical-align: middle;\n",
       "    }\n",
       "\n",
       "    .dataframe tbody tr th {\n",
       "        vertical-align: top;\n",
       "    }\n",
       "\n",
       "    .dataframe thead th {\n",
       "        text-align: right;\n",
       "    }\n",
       "</style>\n",
       "<table border=\"1\" class=\"dataframe\">\n",
       "  <thead>\n",
       "    <tr style=\"text-align: right;\">\n",
       "      <th></th>\n",
       "      <th>anon_ticket_number</th>\n",
       "      <th>issue_datetime</th>\n",
       "      <th>anon_plate_id</th>\n",
       "      <th>violation_desc</th>\n",
       "      <th>fine</th>\n",
       "      <th>issuing_agency</th>\n",
       "      <th>lat</th>\n",
       "      <th>lon</th>\n",
       "    </tr>\n",
       "  </thead>\n",
       "  <tbody>\n",
       "    <tr>\n",
       "      <th>0</th>\n",
       "      <td>4674379</td>\n",
       "      <td>01/01/2015 00:00</td>\n",
       "      <td>934383</td>\n",
       "      <td>BLOCKNG MASS TRANSIT</td>\n",
       "      <td>101</td>\n",
       "      <td>SEPTA</td>\n",
       "      <td>39.975789</td>\n",
       "      <td>-75.163471</td>\n",
       "    </tr>\n",
       "    <tr>\n",
       "      <th>1</th>\n",
       "      <td>4707189</td>\n",
       "      <td>01/01/2015 00:00</td>\n",
       "      <td>1065037</td>\n",
       "      <td>BLOCKNG MASS TRANSIT</td>\n",
       "      <td>101</td>\n",
       "      <td>SEPTA</td>\n",
       "      <td>39.975789</td>\n",
       "      <td>-75.163471</td>\n",
       "    </tr>\n",
       "    <tr>\n",
       "      <th>2</th>\n",
       "      <td>4584526</td>\n",
       "      <td>01/01/2015 00:01</td>\n",
       "      <td>1262953</td>\n",
       "      <td>SIDEWALK   CC</td>\n",
       "      <td>76</td>\n",
       "      <td>POLICE</td>\n",
       "      <td>39.954927</td>\n",
       "      <td>-75.140262</td>\n",
       "    </tr>\n",
       "    <tr>\n",
       "      <th>3</th>\n",
       "      <td>4669046</td>\n",
       "      <td>01/01/2015 00:01</td>\n",
       "      <td>47082</td>\n",
       "      <td>SIDEWALK   CC</td>\n",
       "      <td>76</td>\n",
       "      <td>POLICE</td>\n",
       "      <td>39.954927</td>\n",
       "      <td>-75.140262</td>\n",
       "    </tr>\n",
       "    <tr>\n",
       "      <th>4</th>\n",
       "      <td>4588341</td>\n",
       "      <td>01/01/2015 00:02</td>\n",
       "      <td>1509569</td>\n",
       "      <td>SIDEWALK   CC</td>\n",
       "      <td>76</td>\n",
       "      <td>POLICE</td>\n",
       "      <td>39.954927</td>\n",
       "      <td>-75.140262</td>\n",
       "    </tr>\n",
       "  </tbody>\n",
       "</table>\n",
       "</div>"
      ],
      "text/plain": [
       "   anon_ticket_number    issue_datetime  anon_plate_id        violation_desc  \\\n",
       "0             4674379  01/01/2015 00:00         934383  BLOCKNG MASS TRANSIT   \n",
       "1             4707189  01/01/2015 00:00        1065037  BLOCKNG MASS TRANSIT   \n",
       "2             4584526  01/01/2015 00:01        1262953         SIDEWALK   CC   \n",
       "3             4669046  01/01/2015 00:01          47082         SIDEWALK   CC   \n",
       "4             4588341  01/01/2015 00:02        1509569         SIDEWALK   CC   \n",
       "\n",
       "   fine issuing_agency        lat        lon  \n",
       "0   101          SEPTA  39.975789 -75.163471  \n",
       "1   101          SEPTA  39.975789 -75.163471  \n",
       "2    76         POLICE  39.954927 -75.140262  \n",
       "3    76         POLICE  39.954927 -75.140262  \n",
       "4    76         POLICE  39.954927 -75.140262  "
      ]
     },
     "execution_count": 16,
     "metadata": {},
     "output_type": "execute_result"
    }
   ],
   "source": [
    "parking_df = pd.read_csv(\"data/parking_violations_2015.csv\")\n",
    "parking_df.head()"
   ]
  },
  {
   "cell_type": "code",
   "execution_count": 17,
   "id": "6278e93b",
   "metadata": {},
   "outputs": [
    {
     "data": {
      "text/plain": [
       "(119910, 8)"
      ]
     },
     "execution_count": 17,
     "metadata": {},
     "output_type": "execute_result"
    }
   ],
   "source": [
    "parking_df.shape"
   ]
  },
  {
   "cell_type": "code",
   "execution_count": 18,
   "id": "997210f9",
   "metadata": {},
   "outputs": [],
   "source": [
    "parking_df.dropna(subset=['lat', 'lon'], how='all', inplace=True)"
   ]
  },
  {
   "cell_type": "code",
   "execution_count": 19,
   "id": "07bef7b9",
   "metadata": {
    "scrolled": true
   },
   "outputs": [
    {
     "data": {
      "text/plain": [
       "(107710, 8)"
      ]
     },
     "execution_count": 19,
     "metadata": {},
     "output_type": "execute_result"
    }
   ],
   "source": [
    "parking_df.shape"
   ]
  },
  {
   "attachments": {
    "image.png": {
     "image/png": "[encoded data removed]"
    }
   },
   "cell_type": "markdown",
   "id": "2902652e",
   "metadata": {},
   "source": [
    "![image.png](attachment:image.png)"
   ]
  },
  {
   "cell_type": "code",
   "execution_count": 25,
   "id": "53c192a7",
   "metadata": {},
   "outputs": [
    {
     "data": {
      "text/html": [
       "<div>\n",
       "<style scoped>\n",
       "    .dataframe tbody tr th:only-of-type {\n",
       "        vertical-align: middle;\n",
       "    }\n",
       "\n",
       "    .dataframe tbody tr th {\n",
       "        vertical-align: top;\n",
       "    }\n",
       "\n",
       "    .dataframe thead th {\n",
       "        text-align: right;\n",
       "    }\n",
       "</style>\n",
       "<table border=\"1\" class=\"dataframe\">\n",
       "  <thead>\n",
       "    <tr style=\"text-align: right;\">\n",
       "      <th></th>\n",
       "      <th>anon_ticket_number</th>\n",
       "      <th>issue_datetime</th>\n",
       "      <th>anon_plate_id</th>\n",
       "      <th>violation_desc</th>\n",
       "      <th>fine</th>\n",
       "      <th>issuing_agency</th>\n",
       "      <th>lat</th>\n",
       "      <th>lon</th>\n",
       "      <th>geometry</th>\n",
       "    </tr>\n",
       "  </thead>\n",
       "  <tbody>\n",
       "    <tr>\n",
       "      <th>0</th>\n",
       "      <td>4674379</td>\n",
       "      <td>01/01/2015 00:00</td>\n",
       "      <td>934383</td>\n",
       "      <td>BLOCKNG MASS TRANSIT</td>\n",
       "      <td>101</td>\n",
       "      <td>SEPTA</td>\n",
       "      <td>39.975789</td>\n",
       "      <td>-75.163471</td>\n",
       "      <td>POINT (-75.16347 39.97579)</td>\n",
       "    </tr>\n",
       "    <tr>\n",
       "      <th>1</th>\n",
       "      <td>4707189</td>\n",
       "      <td>01/01/2015 00:00</td>\n",
       "      <td>1065037</td>\n",
       "      <td>BLOCKNG MASS TRANSIT</td>\n",
       "      <td>101</td>\n",
       "      <td>SEPTA</td>\n",
       "      <td>39.975789</td>\n",
       "      <td>-75.163471</td>\n",
       "      <td>POINT (-75.16347 39.97579)</td>\n",
       "    </tr>\n",
       "    <tr>\n",
       "      <th>2</th>\n",
       "      <td>4584526</td>\n",
       "      <td>01/01/2015 00:01</td>\n",
       "      <td>1262953</td>\n",
       "      <td>SIDEWALK   CC</td>\n",
       "      <td>76</td>\n",
       "      <td>POLICE</td>\n",
       "      <td>39.954927</td>\n",
       "      <td>-75.140262</td>\n",
       "      <td>POINT (-75.14026 39.95493)</td>\n",
       "    </tr>\n",
       "    <tr>\n",
       "      <th>3</th>\n",
       "      <td>4669046</td>\n",
       "      <td>01/01/2015 00:01</td>\n",
       "      <td>47082</td>\n",
       "      <td>SIDEWALK   CC</td>\n",
       "      <td>76</td>\n",
       "      <td>POLICE</td>\n",
       "      <td>39.954927</td>\n",
       "      <td>-75.140262</td>\n",
       "      <td>POINT (-75.14026 39.95493)</td>\n",
       "    </tr>\n",
       "    <tr>\n",
       "      <th>4</th>\n",
       "      <td>4588341</td>\n",
       "      <td>01/01/2015 00:02</td>\n",
       "      <td>1509569</td>\n",
       "      <td>SIDEWALK   CC</td>\n",
       "      <td>76</td>\n",
       "      <td>POLICE</td>\n",
       "      <td>39.954927</td>\n",
       "      <td>-75.140262</td>\n",
       "      <td>POINT (-75.14026 39.95493)</td>\n",
       "    </tr>\n",
       "  </tbody>\n",
       "</table>\n",
       "</div>"
      ],
      "text/plain": [
       "   anon_ticket_number    issue_datetime  anon_plate_id        violation_desc  \\\n",
       "0             4674379  01/01/2015 00:00         934383  BLOCKNG MASS TRANSIT   \n",
       "1             4707189  01/01/2015 00:00        1065037  BLOCKNG MASS TRANSIT   \n",
       "2             4584526  01/01/2015 00:01        1262953         SIDEWALK   CC   \n",
       "3             4669046  01/01/2015 00:01          47082         SIDEWALK   CC   \n",
       "4             4588341  01/01/2015 00:02        1509569         SIDEWALK   CC   \n",
       "\n",
       "   fine issuing_agency        lat        lon                    geometry  \n",
       "0   101          SEPTA  39.975789 -75.163471  POINT (-75.16347 39.97579)  \n",
       "1   101          SEPTA  39.975789 -75.163471  POINT (-75.16347 39.97579)  \n",
       "2    76         POLICE  39.954927 -75.140262  POINT (-75.14026 39.95493)  \n",
       "3    76         POLICE  39.954927 -75.140262  POINT (-75.14026 39.95493)  \n",
       "4    76         POLICE  39.954927 -75.140262  POINT (-75.14026 39.95493)  "
      ]
     },
     "execution_count": 25,
     "metadata": {},
     "output_type": "execute_result"
    }
   ],
   "source": [
    "from shapely.geometry import Point\n",
    "gdf = gpd.GeoDataFrame(parking_df, geometry = [Point(x,y) for x,y in zip(parking_df['lon'], parking_df['lat'])], crs = 'EPSG:4326')\n",
    "gdf.head()"
   ]
  },
  {
   "cell_type": "code",
   "execution_count": 12,
   "id": "387fcd7b",
   "metadata": {},
   "outputs": [
    {
     "data": {
      "text/html": [
       "<div>\n",
       "<style scoped>\n",
       "    .dataframe tbody tr th:only-of-type {\n",
       "        vertical-align: middle;\n",
       "    }\n",
       "\n",
       "    .dataframe tbody tr th {\n",
       "        vertical-align: top;\n",
       "    }\n",
       "\n",
       "    .dataframe thead th {\n",
       "        text-align: right;\n",
       "    }\n",
       "</style>\n",
       "<table border=\"1\" class=\"dataframe\">\n",
       "  <thead>\n",
       "    <tr style=\"text-align: right;\">\n",
       "      <th></th>\n",
       "      <th>anon_ticket_number</th>\n",
       "      <th>issue_datetime</th>\n",
       "      <th>anon_plate_id</th>\n",
       "      <th>violation_desc</th>\n",
       "      <th>fine</th>\n",
       "      <th>issuing_agency</th>\n",
       "      <th>lat</th>\n",
       "      <th>lon</th>\n",
       "      <th>geometry</th>\n",
       "    </tr>\n",
       "  </thead>\n",
       "  <tbody>\n",
       "    <tr>\n",
       "      <th>0</th>\n",
       "      <td>4674379</td>\n",
       "      <td>01/01/2015 00:00</td>\n",
       "      <td>934383</td>\n",
       "      <td>BLOCKNG MASS TRANSIT</td>\n",
       "      <td>101</td>\n",
       "      <td>SEPTA</td>\n",
       "      <td>39.975789</td>\n",
       "      <td>-75.163471</td>\n",
       "      <td>POINT (-75.16347 39.97579)</td>\n",
       "    </tr>\n",
       "    <tr>\n",
       "      <th>1</th>\n",
       "      <td>4707189</td>\n",
       "      <td>01/01/2015 00:00</td>\n",
       "      <td>1065037</td>\n",
       "      <td>BLOCKNG MASS TRANSIT</td>\n",
       "      <td>101</td>\n",
       "      <td>SEPTA</td>\n",
       "      <td>39.975789</td>\n",
       "      <td>-75.163471</td>\n",
       "      <td>POINT (-75.16347 39.97579)</td>\n",
       "    </tr>\n",
       "    <tr>\n",
       "      <th>2</th>\n",
       "      <td>4584526</td>\n",
       "      <td>01/01/2015 00:01</td>\n",
       "      <td>1262953</td>\n",
       "      <td>SIDEWALK   CC</td>\n",
       "      <td>76</td>\n",
       "      <td>POLICE</td>\n",
       "      <td>39.954927</td>\n",
       "      <td>-75.140262</td>\n",
       "      <td>POINT (-75.14026 39.95493)</td>\n",
       "    </tr>\n",
       "    <tr>\n",
       "      <th>3</th>\n",
       "      <td>4669046</td>\n",
       "      <td>01/01/2015 00:01</td>\n",
       "      <td>47082</td>\n",
       "      <td>SIDEWALK   CC</td>\n",
       "      <td>76</td>\n",
       "      <td>POLICE</td>\n",
       "      <td>39.954927</td>\n",
       "      <td>-75.140262</td>\n",
       "      <td>POINT (-75.14026 39.95493)</td>\n",
       "    </tr>\n",
       "    <tr>\n",
       "      <th>4</th>\n",
       "      <td>4588341</td>\n",
       "      <td>01/01/2015 00:02</td>\n",
       "      <td>1509569</td>\n",
       "      <td>SIDEWALK   CC</td>\n",
       "      <td>76</td>\n",
       "      <td>POLICE</td>\n",
       "      <td>39.954927</td>\n",
       "      <td>-75.140262</td>\n",
       "      <td>POINT (-75.14026 39.95493)</td>\n",
       "    </tr>\n",
       "  </tbody>\n",
       "</table>\n",
       "</div>"
      ],
      "text/plain": [
       "   anon_ticket_number    issue_datetime  anon_plate_id        violation_desc  \\\n",
       "0             4674379  01/01/2015 00:00         934383  BLOCKNG MASS TRANSIT   \n",
       "1             4707189  01/01/2015 00:00        1065037  BLOCKNG MASS TRANSIT   \n",
       "2             4584526  01/01/2015 00:01        1262953         SIDEWALK   CC   \n",
       "3             4669046  01/01/2015 00:01          47082         SIDEWALK   CC   \n",
       "4             4588341  01/01/2015 00:02        1509569         SIDEWALK   CC   \n",
       "\n",
       "   fine issuing_agency        lat        lon                    geometry  \n",
       "0   101          SEPTA  39.975789 -75.163471  POINT (-75.16347 39.97579)  \n",
       "1   101          SEPTA  39.975789 -75.163471  POINT (-75.16347 39.97579)  \n",
       "2    76         POLICE  39.954927 -75.140262  POINT (-75.14026 39.95493)  \n",
       "3    76         POLICE  39.954927 -75.140262  POINT (-75.14026 39.95493)  \n",
       "4    76         POLICE  39.954927 -75.140262  POINT (-75.14026 39.95493)  "
      ]
     },
     "execution_count": 12,
     "metadata": {},
     "output_type": "execute_result"
    }
   ],
   "source": [
    "#gdf = gpd.GeoDataFrame(parking_df, geometry=gpd.points_from_xy(parking_df.lon, parking_df.lat), crs=\"EPSG:4326\")\n",
    "#gdf.head()"
   ]
  },
  {
   "cell_type": "code",
   "execution_count": 26,
   "id": "a5335118",
   "metadata": {},
   "outputs": [],
   "source": [
    "gdf.to_file(\"data/parking_2015.geojson\",  driver='GeoJSON')"
   ]
  },
  {
   "cell_type": "code",
   "execution_count": 27,
   "id": "54df2ae9",
   "metadata": {},
   "outputs": [
    {
     "name": "stdout",
     "output_type": "stream",
     "text": [
      "User Guide: https://docs.kepler.gl/docs/keplergl-jupyter\n"
     ]
    },
    {
     "data": {
      "application/vnd.jupyter.widget-view+json": {
       "model_id": "4e342a9ba7ae4f788ff3d26dd1aea86c",
       "version_major": 2,
       "version_minor": 0
      },
      "text/plain": [
       "KeplerGl(data={'parking_points': {'index': [0, 1, 2, 3, 4, 5, 7, 8, 10, 12, 13, 14, 15, 17, 20, 21, 22, 23, 24…"
      ]
     },
     "metadata": {},
     "output_type": "display_data"
    }
   ],
   "source": [
    "m = KeplerGl(height=900)\n",
    "m.add_data(data=gdf, name='parking_points')\n",
    "m"
   ]
  }
 ],
 "metadata": {
  "kernelspec": {
   "display_name": "Python 3 (ipykernel)",
   "language": "python",
   "name": "python3"
  },
  "language_info": {
   "codemirror_mode": {
    "name": "ipython",
    "version": 3
   },
   "file_extension": ".py",
   "mimetype": "text/x-python",
   "name": "python",
   "nbconvert_exporter": "python",
   "pygments_lexer": "ipython3",
   "version": "3.7.10"
  }
 },
 "nbformat": 4,
 "nbformat_minor": 5
}
