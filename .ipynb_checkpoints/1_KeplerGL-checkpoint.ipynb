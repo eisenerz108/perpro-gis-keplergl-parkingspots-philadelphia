{
 "cells": [
  {
   "cell_type": "code",
   "execution_count": 2,
   "id": "7856bdf7",
   "metadata": {},
   "outputs": [],
   "source": [
    "from keplergl import KeplerGl\n",
    "import pandas as pd"
   ]
  },
  {
   "cell_type": "code",
   "execution_count": 3,
   "id": "fab39207",
   "metadata": {},
   "outputs": [
    {
     "data": {
      "text/html": [
       "<div>\n",
       "<style scoped>\n",
       "    .dataframe tbody tr th:only-of-type {\n",
       "        vertical-align: middle;\n",
       "    }\n",
       "\n",
       "    .dataframe tbody tr th {\n",
       "        vertical-align: top;\n",
       "    }\n",
       "\n",
       "    .dataframe thead th {\n",
       "        text-align: right;\n",
       "    }\n",
       "</style>\n",
       "<table border=\"1\" class=\"dataframe\">\n",
       "  <thead>\n",
       "    <tr style=\"text-align: right;\">\n",
       "      <th></th>\n",
       "      <th>City</th>\n",
       "      <th>Country</th>\n",
       "      <th>Latitude</th>\n",
       "      <th>Longitude</th>\n",
       "      <th>Population</th>\n",
       "    </tr>\n",
       "  </thead>\n",
       "  <tbody>\n",
       "    <tr>\n",
       "      <th>0</th>\n",
       "      <td>Shanghai</td>\n",
       "      <td>China</td>\n",
       "      <td>31.045556</td>\n",
       "      <td>121.399722</td>\n",
       "      <td>14608512</td>\n",
       "    </tr>\n",
       "    <tr>\n",
       "      <th>1</th>\n",
       "      <td>Sao paulo</td>\n",
       "      <td>Brazil</td>\n",
       "      <td>-23.473293</td>\n",
       "      <td>-46.665803</td>\n",
       "      <td>10021437</td>\n",
       "    </tr>\n",
       "    <tr>\n",
       "      <th>2</th>\n",
       "      <td>Cairo</td>\n",
       "      <td>Egypt</td>\n",
       "      <td>30.050000</td>\n",
       "      <td>31.250000</td>\n",
       "      <td>7734602</td>\n",
       "    </tr>\n",
       "    <tr>\n",
       "      <th>3</th>\n",
       "      <td>London</td>\n",
       "      <td>England</td>\n",
       "      <td>51.514125</td>\n",
       "      <td>-0.093689</td>\n",
       "      <td>7421228</td>\n",
       "    </tr>\n",
       "    <tr>\n",
       "      <th>4</th>\n",
       "      <td>Toronto</td>\n",
       "      <td>Canada</td>\n",
       "      <td>43.666667</td>\n",
       "      <td>-79.416667</td>\n",
       "      <td>4612187</td>\n",
       "    </tr>\n",
       "    <tr>\n",
       "      <th>5</th>\n",
       "      <td>Sydney</td>\n",
       "      <td>Australia</td>\n",
       "      <td>-33.861481</td>\n",
       "      <td>151.205475</td>\n",
       "      <td>4394585</td>\n",
       "    </tr>\n",
       "  </tbody>\n",
       "</table>\n",
       "</div>"
      ],
      "text/plain": [
       "        City    Country   Latitude   Longitude  Population\n",
       "0   Shanghai      China  31.045556  121.399722    14608512\n",
       "1  Sao paulo     Brazil -23.473293  -46.665803    10021437\n",
       "2      Cairo      Egypt  30.050000   31.250000     7734602\n",
       "3     London    England  51.514125   -0.093689     7421228\n",
       "4    Toronto     Canada  43.666667  -79.416667     4612187\n",
       "5     Sydney  Australia -33.861481  151.205475     4394585"
      ]
     },
     "execution_count": 3,
     "metadata": {},
     "output_type": "execute_result"
    }
   ],
   "source": [
    "# Create a Dataframe\n",
    "df = pd.DataFrame(\n",
    "    {\n",
    "        \"City\": [\"Shanghai\", \"Sao paulo\", \"Cairo\", \"London\", \"Toronto\", \"Sydney\"],\n",
    "        \"Country\": [\"China\", \"Brazil\", \"Egypt\", \"England\", \"Canada\", \"Australia\"],\n",
    "        \"Latitude\": [31.045556, -23.473293, 30.05, 51.514125, 43.666667, -33.861481],\n",
    "        \"Longitude\": [121.399722, -46.665803, 31.25, -0.093689, -79.416667, 151.205475],\n",
    "        \"Population\": [14608512, 10021437, 7734602, 7421228, 4612187, 4394585],\n",
    "    }\n",
    ")\n",
    "\n",
    "\n",
    "df"
   ]
  },
  {
   "cell_type": "code",
   "execution_count": 4,
   "id": "39b73c61",
   "metadata": {},
   "outputs": [
    {
     "name": "stdout",
     "output_type": "stream",
     "text": [
      "User Guide: https://docs.kepler.gl/docs/keplergl-jupyter\n"
     ]
    },
    {
     "data": {
      "application/vnd.jupyter.widget-view+json": {
       "model_id": "f5e9241daa024444ae4e4d9af0b14bfc",
       "version_major": 2,
       "version_minor": 0
      },
      "text/plain": [
       "KeplerGl(height=600)"
      ]
     },
     "metadata": {},
     "output_type": "display_data"
    }
   ],
   "source": [
    "#Create a basemap \n",
    "m = KeplerGl(height=600, width=800)\n",
    "\n",
    "#show the map\n",
    "m"
   ]
  }
 ],
 "metadata": {
  "kernelspec": {
   "display_name": "Python 3 (ipykernel)",
   "language": "python",
   "name": "python3"
  },
  "language_info": {
   "codemirror_mode": {
    "name": "ipython",
    "version": 3
   },
   "file_extension": ".py",
   "mimetype": "text/x-python",
   "name": "python",
   "nbconvert_exporter": "python",
   "pygments_lexer": "ipython3",
   "version": "3.7.10"
  }
 },
 "nbformat": 4,
 "nbformat_minor": 5
}
