{
 "cells": [
  {
   "cell_type": "code",
   "execution_count": 1,
   "id": "ee9c585e",
   "metadata": {},
   "outputs": [],
   "source": [
    "import geopandas as gpd\n",
    "import pandas as pd\n",
    "from keplergl import KeplerGl as kgl"
   ]
  },
  {
   "cell_type": "code",
   "execution_count": 2,
   "id": "eeddee18",
   "metadata": {},
   "outputs": [
    {
     "data": {
      "text/plain": [
       "anon_ticket_number       int64\n",
       "issue_datetime          object\n",
       "anon_plate_id            int64\n",
       "violation_desc          object\n",
       "fine                     int64\n",
       "issuing_agency          object\n",
       "lat                    float64\n",
       "lon                    float64\n",
       "geometry              geometry\n",
       "dtype: object"
      ]
     },
     "execution_count": 2,
     "metadata": {},
     "output_type": "execute_result"
    }
   ],
   "source": [
    "gdf = gpd.read_file('data/parking_2015.geojson', parse_dates=True)\n",
    "\n",
    "gdf.head()\n",
    "gdf.dtypes"
   ]
  },
  {
   "cell_type": "code",
   "execution_count": 3,
   "id": "4bace5b3",
   "metadata": {},
   "outputs": [
    {
     "data": {
      "text/plain": [
       "anon_ticket_number             int64\n",
       "issue_datetime        datetime64[ns]\n",
       "anon_plate_id                  int64\n",
       "violation_desc                object\n",
       "fine                           int64\n",
       "issuing_agency                object\n",
       "lat                          float64\n",
       "lon                          float64\n",
       "geometry                    geometry\n",
       "dtype: object"
      ]
     },
     "execution_count": 3,
     "metadata": {},
     "output_type": "execute_result"
    }
   ],
   "source": [
    "gdf['issue_datetime'] = pd.to_datetime(gdf['issue_datetime'], dayfirst=True)\n",
    "gdf.dtypes"
   ]
  },
  {
   "cell_type": "code",
   "execution_count": null,
   "id": "bd45ac65",
   "metadata": {},
   "outputs": [],
   "source": []
  },
  {
   "cell_type": "code",
   "execution_count": 4,
   "id": "52bd0bf9",
   "metadata": {},
   "outputs": [
    {
     "name": "stdout",
     "output_type": "stream",
     "text": [
      "User Guide: https://docs.kepler.gl/docs/keplergl-jupyter\n"
     ]
    },
    {
     "data": {
      "application/vnd.jupyter.widget-view+json": {
       "model_id": "26a4e9efa64a4439b5598f097aa3d2e3",
       "version_major": 2,
       "version_minor": 0
      },
      "text/plain": [
       "KeplerGl(data={'animation': {'index': [0, 1, 2, 3, 4, 5, 6, 7, 8, 9, 10, 11, 12, 13, 14, 15, 16, 17, 18, 19, 2…"
      ]
     },
     "metadata": {},
     "output_type": "display_data"
    }
   ],
   "source": [
    "m = kgl(height=900)\n",
    "m.add_data(data=gdf, name = 'animation')\n",
    "m"
   ]
  },
  {
   "cell_type": "markdown",
   "id": "5d1cc29f",
   "metadata": {},
   "source": [
    "Adding a Filter, and using a date time "
   ]
  }
 ],
 "metadata": {
  "kernelspec": {
   "display_name": "Python 3 (ipykernel)",
   "language": "python",
   "name": "python3"
  },
  "language_info": {
   "codemirror_mode": {
    "name": "ipython",
    "version": 3
   },
   "file_extension": ".py",
   "mimetype": "text/x-python",
   "name": "python",
   "nbconvert_exporter": "python",
   "pygments_lexer": "ipython3",
   "version": "3.7.10"
  }
 },
 "nbformat": 4,
 "nbformat_minor": 5
}
