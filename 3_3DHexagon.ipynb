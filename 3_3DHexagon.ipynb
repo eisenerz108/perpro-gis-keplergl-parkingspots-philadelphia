{
 "cells": [
  {
   "cell_type": "code",
   "execution_count": 1,
   "id": "3d7e4d26",
   "metadata": {},
   "outputs": [],
   "source": [
    "import geopandas as gpd\n",
    "from keplergl import KeplerGl"
   ]
  },
  {
   "cell_type": "code",
   "execution_count": 2,
   "id": "6f17b31f",
   "metadata": {},
   "outputs": [
    {
     "data": {
      "text/html": [
       "<div>\n",
       "<style scoped>\n",
       "    .dataframe tbody tr th:only-of-type {\n",
       "        vertical-align: middle;\n",
       "    }\n",
       "\n",
       "    .dataframe tbody tr th {\n",
       "        vertical-align: top;\n",
       "    }\n",
       "\n",
       "    .dataframe thead th {\n",
       "        text-align: right;\n",
       "    }\n",
       "</style>\n",
       "<table border=\"1\" class=\"dataframe\">\n",
       "  <thead>\n",
       "    <tr style=\"text-align: right;\">\n",
       "      <th></th>\n",
       "      <th>anon_ticket_number</th>\n",
       "      <th>issue_datetime</th>\n",
       "      <th>anon_plate_id</th>\n",
       "      <th>violation_desc</th>\n",
       "      <th>fine</th>\n",
       "      <th>issuing_agency</th>\n",
       "      <th>lat</th>\n",
       "      <th>lon</th>\n",
       "      <th>geometry</th>\n",
       "    </tr>\n",
       "  </thead>\n",
       "  <tbody>\n",
       "    <tr>\n",
       "      <th>0</th>\n",
       "      <td>4674379</td>\n",
       "      <td>01/01/2015 00:00</td>\n",
       "      <td>934383</td>\n",
       "      <td>BLOCKNG MASS TRANSIT</td>\n",
       "      <td>101</td>\n",
       "      <td>SEPTA</td>\n",
       "      <td>39.975789</td>\n",
       "      <td>-75.163471</td>\n",
       "      <td>POINT (-75.16347 39.97579)</td>\n",
       "    </tr>\n",
       "    <tr>\n",
       "      <th>1</th>\n",
       "      <td>4707189</td>\n",
       "      <td>01/01/2015 00:00</td>\n",
       "      <td>1065037</td>\n",
       "      <td>BLOCKNG MASS TRANSIT</td>\n",
       "      <td>101</td>\n",
       "      <td>SEPTA</td>\n",
       "      <td>39.975789</td>\n",
       "      <td>-75.163471</td>\n",
       "      <td>POINT (-75.16347 39.97579)</td>\n",
       "    </tr>\n",
       "    <tr>\n",
       "      <th>2</th>\n",
       "      <td>4584526</td>\n",
       "      <td>01/01/2015 00:01</td>\n",
       "      <td>1262953</td>\n",
       "      <td>SIDEWALK   CC</td>\n",
       "      <td>76</td>\n",
       "      <td>POLICE</td>\n",
       "      <td>39.954927</td>\n",
       "      <td>-75.140262</td>\n",
       "      <td>POINT (-75.14026 39.95493)</td>\n",
       "    </tr>\n",
       "    <tr>\n",
       "      <th>3</th>\n",
       "      <td>4669046</td>\n",
       "      <td>01/01/2015 00:01</td>\n",
       "      <td>47082</td>\n",
       "      <td>SIDEWALK   CC</td>\n",
       "      <td>76</td>\n",
       "      <td>POLICE</td>\n",
       "      <td>39.954927</td>\n",
       "      <td>-75.140262</td>\n",
       "      <td>POINT (-75.14026 39.95493)</td>\n",
       "    </tr>\n",
       "    <tr>\n",
       "      <th>4</th>\n",
       "      <td>4588341</td>\n",
       "      <td>01/01/2015 00:02</td>\n",
       "      <td>1509569</td>\n",
       "      <td>SIDEWALK   CC</td>\n",
       "      <td>76</td>\n",
       "      <td>POLICE</td>\n",
       "      <td>39.954927</td>\n",
       "      <td>-75.140262</td>\n",
       "      <td>POINT (-75.14026 39.95493)</td>\n",
       "    </tr>\n",
       "  </tbody>\n",
       "</table>\n",
       "</div>"
      ],
      "text/plain": [
       "   anon_ticket_number    issue_datetime  anon_plate_id        violation_desc  \\\n",
       "0             4674379  01/01/2015 00:00         934383  BLOCKNG MASS TRANSIT   \n",
       "1             4707189  01/01/2015 00:00        1065037  BLOCKNG MASS TRANSIT   \n",
       "2             4584526  01/01/2015 00:01        1262953         SIDEWALK   CC   \n",
       "3             4669046  01/01/2015 00:01          47082         SIDEWALK   CC   \n",
       "4             4588341  01/01/2015 00:02        1509569         SIDEWALK   CC   \n",
       "\n",
       "   fine issuing_agency        lat        lon                    geometry  \n",
       "0   101          SEPTA  39.975789 -75.163471  POINT (-75.16347 39.97579)  \n",
       "1   101          SEPTA  39.975789 -75.163471  POINT (-75.16347 39.97579)  \n",
       "2    76         POLICE  39.954927 -75.140262  POINT (-75.14026 39.95493)  \n",
       "3    76         POLICE  39.954927 -75.140262  POINT (-75.14026 39.95493)  \n",
       "4    76         POLICE  39.954927 -75.140262  POINT (-75.14026 39.95493)  "
      ]
     },
     "execution_count": 2,
     "metadata": {},
     "output_type": "execute_result"
    }
   ],
   "source": [
    "gdf = gpd.read_file(\"data/parking_2015.geojson\")\n",
    "gdf.head()"
   ]
  },
  {
   "cell_type": "code",
   "execution_count": null,
   "id": "e10b61af",
   "metadata": {},
   "outputs": [
    {
     "name": "stdout",
     "output_type": "stream",
     "text": [
      "User Guide: https://docs.kepler.gl/docs/keplergl-jupyter\n"
     ]
    }
   ],
   "source": [
    "m = KeplerGl(height=900)\n",
    "m.add_data(data=gdf, name='3dHexagon')\n",
    "m"
   ]
  },
  {
   "cell_type": "markdown",
   "id": "6bbe819c",
   "metadata": {},
   "source": [
    "Convert the Hexagon to Box-Hexagon and then later the colour can be changed. The KM of the per box can also be changed and then a height can be added as well. Convert this to 3D and using Ctrl you can change the views. "
   ]
  }
 ],
 "metadata": {
  "kernelspec": {
   "display_name": "Python 3 (ipykernel)",
   "language": "python",
   "name": "python3"
  },
  "language_info": {
   "codemirror_mode": {
    "name": "ipython",
    "version": 3
   },
   "file_extension": ".py",
   "mimetype": "text/x-python",
   "name": "python",
   "nbconvert_exporter": "python",
   "pygments_lexer": "ipython3",
   "version": "3.7.10"
  }
 },
 "nbformat": 4,
 "nbformat_minor": 5
}
